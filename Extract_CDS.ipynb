{
 "cells": [
  {
   "cell_type": "code",
   "execution_count": 58,
   "id": "fa48f510",
   "metadata": {},
   "outputs": [],
   "source": [
    "from Bio import SeqIO\n",
    "from Bio.Seq import Seq\n",
    "import os"
   ]
  },
  {
   "cell_type": "code",
   "execution_count": 59,
   "id": "8f89ed6d",
   "metadata": {},
   "outputs": [],
   "source": [
    "gff_path = 'gff'\n",
    "fasta_path = 'fasta'\n",
    "kmer_file = 'annotation7/gene_hits.txt'\n",
    "outpath = 'cds'"
   ]
  },
  {
   "cell_type": "code",
   "execution_count": 60,
   "id": "2ceb2da4",
   "metadata": {},
   "outputs": [],
   "source": [
    "def extract_CDS_ID(kmer_file):\n",
    "    id_querry = []\n",
    "    with open(kmer_file, 'r') as genefile:\n",
    "        next(genefile)\n",
    "        id_querry = [line.strip().split('\\t')[0] for line in genefile]\n",
    "    return id_querry"
   ]
  },
  {
   "cell_type": "code",
   "execution_count": 61,
   "id": "32e3b948",
   "metadata": {},
   "outputs": [],
   "source": [
    "def extract_CDS(gff_file_path, fasta_file_path,cds_id_of_interest,output_path):\n",
    "    # Initialize variables to store the extracted CDS coordinates\n",
    "    os.makedirs(output_path, exist_ok=True)\n",
    "    cds_start = None\n",
    "    cds_end = None\n",
    "\n",
    "    # Open and parse the GFF file to find the coordinates of the CDS of interest\n",
    "    with open(gff_file_path, 'r') as gff_file:\n",
    "        for line in gff_file:\n",
    "            # Skip comment lines and header lines\n",
    "            if line.startswith('#'):\n",
    "                continue\n",
    "\n",
    "            # Split the line into fields\n",
    "            fields = line.strip().split('\\t')\n",
    "\n",
    "            # Check if the feature is a CDS\n",
    "            if fields[2] == 'CDS':\n",
    "                # Extract the attributes column\n",
    "                attributes = fields[8]\n",
    "\n",
    "                # Split the attributes into key-value pairs\n",
    "                attribute_pairs = attributes.split(';')\n",
    "\n",
    "                # Initialize variables to store ID and Parent attributes\n",
    "                id_attribute = None\n",
    "                parent_attribute = None\n",
    "\n",
    "                # Extract ID and Parent attributes\n",
    "                for pair in attribute_pairs:\n",
    "                    key, value = pair.strip().split('=')\n",
    "                    if key == 'ID':\n",
    "                        id_attribute = value\n",
    "                    elif key == 'Parent':\n",
    "                        parent_attribute = value\n",
    "\n",
    "                # Check if the CDS ID matches the one of interest\n",
    "                if id_attribute == cds_id_of_interest:\n",
    "                    cds_start = int(fields[3])  # Start position\n",
    "                    cds_end = int(fields[4])    # End position\n",
    "                    break\n",
    "\n",
    "    # Check if CDS coordinates were found\n",
    "    if cds_start is not None and cds_end is not None:\n",
    "        # Open and parse the FASTA file\n",
    "        fasta_sequences = SeqIO.to_dict(SeqIO.parse(fasta_file_path, 'fasta'))\n",
    "        # Extract the nucleotide sequence of the CDS\n",
    "        cds_sequence = fasta_sequences[fields[0]].seq[cds_start - 1 : cds_end]\n",
    "        out_filename = os.path.join(output_path, f'{cds_id_of_interest}.fasta')\n",
    "        with open(out_filename, 'w') as cds_writer:\n",
    "            print(f'>{cds_id_of_interest}', file = cds_writer)\n",
    "            print(cds_sequence, file = cds_writer)"
   ]
  },
  {
   "cell_type": "code",
   "execution_count": 62,
   "id": "7e16cef6",
   "metadata": {},
   "outputs": [],
   "source": [
    "querry = extract_CDS_ID(kmer_file)\n",
    "for id_num in querry:\n",
    "    sample = id_num.split(\"__\")[0]\n",
    "    gff_file_path = os.path.join(gff_path, f'{sample}.gff')\n",
    "    fasta_file_path = os.path.join(fasta_path, f'{sample}.contigs.fasta')\n",
    "    extract_CDS(gff_file_path,fasta_file_path,id_num,outpath)"
   ]
  },
  {
   "cell_type": "code",
   "execution_count": 63,
   "id": "87c6f92f",
   "metadata": {},
   "outputs": [
    {
     "data": {
      "text/plain": [
       "442"
      ]
     },
     "execution_count": 63,
     "metadata": {},
     "output_type": "execute_result"
    }
   ],
   "source": [
    "len(querry)"
   ]
  }
 ],
 "metadata": {
  "kernelspec": {
   "display_name": "Python 3 (ipykernel)",
   "language": "python",
   "name": "python3"
  },
  "language_info": {
   "codemirror_mode": {
    "name": "ipython",
    "version": 3
   },
   "file_extension": ".py",
   "mimetype": "text/x-python",
   "name": "python",
   "nbconvert_exporter": "python",
   "pygments_lexer": "ipython3",
   "version": "3.11.4"
  }
 },
 "nbformat": 4,
 "nbformat_minor": 5
}
